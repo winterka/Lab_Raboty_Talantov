{
 "cells": [
  {
   "cell_type": "markdown",
   "metadata": {},
   "source": [
    "# Контрольные задачи по дисциплине СиАоД №1"
   ]
  },
  {
   "cell_type": "markdown",
   "metadata": {},
   "source": [
    "# Выполнил студент группы БСТ1903 Талантов О.А."
   ]
  },
  {
   "cell_type": "markdown",
   "metadata": {},
   "source": [
    "## Задача 1. «Треугольник с максимальным периметром»"
   ]
  },
  {
   "cell_type": "markdown",
   "metadata": {},
   "source": [
    " Массив A состоит из целых положительных чисел ­ длин отрезков. Составьте из трех отрезков такой треугольник, чтобы его периметр был максимально возможным. Если невозможно составить треугольник с положительной площадью ­ функция возвращает 0"
   ]
  },
  {
   "cell_type": "code",
   "execution_count": 5,
   "metadata": {},
   "outputs": [
    {
     "name": "stdout",
     "output_type": "stream",
     "text": [
      "5\n",
      "0\n",
      "10\n",
      "8\n"
     ]
    }
   ],
   "source": [
    "#Задача 1.\n",
    "def mPer(l):\n",
    "\tres = 0\n",
    "\tfor a in range(len(l)-2):\n",
    "\t\tfor b in range(a+1,len(l)-1):\n",
    "\t\t\tfor c in range(b+1, len(l)):\n",
    "\t\t\t\tp=(l[a]+l[b]+l[c])/2\n",
    "\t\t\t\tS=p*(p-l[a]) * (p-l[b]) * (p-l[c])\n",
    "\t\t\t\tif S<=0:\n",
    "\t\t\t\t\tcontinue\n",
    "\t\t\t\tpr = l[a] + l[b] + l[c]\n",
    "\t\t\t\tif pr > res:\n",
    "\t\t\t\t\tres = pr\n",
    "\treturn res\n",
    "print(mPer([2,1,2]))\n",
    "print(mPer([1,2,1]))\n",
    "print(mPer([3,2,3,4]))\n",
    "print(mPer([3,6,2,3]))"
   ]
  },
  {
   "cell_type": "markdown",
   "metadata": {},
   "source": [
    "## Задача 2. «Максимальное число»"
   ]
  },
  {
   "cell_type": "markdown",
   "metadata": {},
   "source": [
    "Дан массив неотрицательных целых чисел nums. Расположите их в таком порядке, чтобы вместе они образовали максимально возможное число. Замечание: Результат может быть очень большим числом, поэтому представьте его как string, а не integer."
   ]
  },
  {
   "cell_type": "code",
   "execution_count": 4,
   "metadata": {},
   "outputs": [
    {
     "name": "stdout",
     "output_type": "stream",
     "text": [
      "210\n",
      "9534330\n",
      "1\n",
      "10\n"
     ]
    }
   ],
   "source": [
    "#Задача 2.\n",
    "def mNum(mas):\n",
    "\tdef bol(x,y):\n",
    "\t\txy = int(str(x)+str(y))\n",
    "\t\tyx = int(str(y)+str(x))\n",
    "\t\tif xy>yx:\n",
    "\t\t\treturn True\n",
    "\t\telse:\n",
    "\t\t\treturn False\n",
    "\tdef sort(mas):\n",
    "\t\tfor i in range(len(mas)-1):\n",
    "\t\t\tbg=i\n",
    "\t\t\tfor j in range(i+1, len(mas)):\n",
    "\t\t\t\tif not bol(mas[bg],mas[j]):\n",
    "\t\t\t\t\tbg = j\n",
    "\t\t\tmas[i],mas[bg]=mas[bg], mas[i]\n",
    "\tsort(mas)\n",
    "\treturn ''.join(str(e) for e in mas)\n",
    "print(mNum([10,2]))\n",
    "print(mNum([3,30,34,5,9]))\n",
    "print(mNum([1]))\n",
    "print(mNum([10]))"
   ]
  },
  {
   "cell_type": "markdown",
   "metadata": {},
   "source": [
    "## Задача 3. «Сортировка диагоналей в матрице»"
   ]
  },
  {
   "cell_type": "markdown",
   "metadata": {},
   "source": [
    "\n",
    "Задача 3. «Сортировка диагоналей в матрице»\n",
    "Дана матрица mat размером m * n, значения ­ целочисленные. Напишите функцию, сортирующую каждую диагональ матрицы по возрастанию и возвращающую получившуюся матрицу."
   ]
  },
  {
   "cell_type": "code",
   "execution_count": 1,
   "metadata": {},
   "outputs": [
    {
     "name": "stdout",
     "output_type": "stream",
     "text": [
      "[[1, 1, 1, 1], [1, 2, 2, 2], [1, 2, 3, 3]]\n",
      "[[5, 17, 4, 1, 52, 7], [11, 11, 25, 45, 8, 69], [14, 23, 25, 44, 58, 15], [22, 27, 31, 36, 50, 66], [84, 28, 75, 33, 55, 68]]\n"
     ]
    }
   ],
   "source": [
    "def sortMat(mtx):\n",
    "\tdef comp(mtx, i ,j):\n",
    "\t\tif i==0 or j==0:\n",
    "\t\t\treturn\n",
    "\t\ttry:\n",
    "\t\t\tif mtx[i][j]<mtx[i-1][j-1]:\n",
    "\t\t\t\tmtx[i][j],mtx[i-1][j-1]=mtx[i-1][j-1],mtx[i][j]\n",
    "\t\t\t\treturn(comp(mtx,i+1,j+1))\n",
    "\t\texcept IndexError:\n",
    "\t\t\treturn\n",
    "\tfor i in range(len(mtx)-1,-1,-1):\n",
    "\t\tfor j in range(0, len(mtx[i]),1):\n",
    "\t\t\tcomp(mtx,i,j)\n",
    "\treturn mtx\n",
    "print(sortMat([[3, 3, 1, 1], [2, 2, 1, 2], [1, 1, 1, 2]]))\n",
    "print(sortMat([[11, 25, 66, 1, 69, 7], [23, 55, 17, 45, 15, 52], [75, 31, 36,\n",
    "44, 58, 8], [22, 27, 33, 25, 68, 4], [84, 28, 14, 11, 5, 50]]))\n",
    "\n",
    "                \n",
    "              "
   ]
  },
  {
   "cell_type": "code",
   "execution_count": null,
   "metadata": {},
   "outputs": [],
   "source": []
  },
  {
   "cell_type": "code",
   "execution_count": null,
   "metadata": {},
   "outputs": [],
   "source": []
  }
 ],
 "metadata": {
  "kernelspec": {
   "display_name": "Python 3",
   "language": "python",
   "name": "python3"
  },
  "language_info": {
   "codemirror_mode": {
    "name": "ipython",
    "version": 3
   },
   "file_extension": ".py",
   "mimetype": "text/x-python",
   "name": "python",
   "nbconvert_exporter": "python",
   "pygments_lexer": "ipython3",
   "version": "3.9.2"
  }
 },
 "nbformat": 4,
 "nbformat_minor": 4
}
